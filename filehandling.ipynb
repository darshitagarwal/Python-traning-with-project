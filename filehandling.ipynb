{
 "cells": [
  {
   "cell_type": "code",
   "execution_count": 4,
   "metadata": {},
   "outputs": [
    {
     "name": "stdout",
     "output_type": "stream",
     "text": [
      "File contents added\n"
     ]
    }
   ],
   "source": [
    "# create a file\n",
    "x=input(\"Enter the file name to be created\")\n",
    "y=input(\"Enter the file contents ->\")\n",
    "a=open(x,\"a\")\n",
    "a.write(y)\n",
    "a.close()\n",
    "print(\"File contents added\")"
   ]
  },
  {
   "cell_type": "code",
   "execution_count": 5,
   "metadata": {},
   "outputs": [
    {
     "name": "stdout",
     "output_type": "stream",
     "text": [
      "\n",
      "\t\t----File Output----\n",
      "hi there we are practicing file handling\n"
     ]
    }
   ],
   "source": [
    "# file read\n",
    "b=input(\"Enter your file name -> \")\n",
    "a=open(b,\"r\")\n",
    "print(\"\\n\\t\\t----File Output----\")\n",
    "print(a.read())"
   ]
  },
  {
   "cell_type": "code",
   "execution_count": 6,
   "metadata": {},
   "outputs": [
    {
     "name": "stdout",
     "output_type": "stream",
     "text": [
      "File contents added\n"
     ]
    }
   ],
   "source": [
    "# append file\n",
    "x=input(\"Enter the file name => \")\n",
    "y=input(\"Enter the file contents => \")\n",
    "a=open(x,\"a\")\n",
    "a.write(y)\n",
    "a.close()\n",
    "print(\"File contents added\")"
   ]
  },
  {
   "cell_type": "code",
   "execution_count": null,
   "metadata": {},
   "outputs": [],
   "source": [
    "import os\n",
    "a=input(\"Enter the file name to delete -> \")\n",
    "os.remove(a)\n",
    "print(\"File Deleted successfully\")"
   ]
  }
 ],
 "metadata": {
  "kernelspec": {
   "display_name": "Python 3",
   "language": "python",
   "name": "python3"
  },
  "language_info": {
   "codemirror_mode": {
    "name": "ipython",
    "version": 3
   },
   "file_extension": ".py",
   "mimetype": "text/x-python",
   "name": "python",
   "nbconvert_exporter": "python",
   "pygments_lexer": "ipython3",
   "version": "3.11.4"
  },
  "orig_nbformat": 4
 },
 "nbformat": 4,
 "nbformat_minor": 2
}
